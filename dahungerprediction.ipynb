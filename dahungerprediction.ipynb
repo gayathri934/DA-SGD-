{
  "nbformat": 4,
  "nbformat_minor": 0,
  "metadata": {
    "colab": {
      "provenance": []
    },
    "kernelspec": {
      "name": "python3",
      "display_name": "Python 3"
    },
    "language_info": {
      "name": "python"
    }
  },
  "cells": [
    {
      "cell_type": "code",
      "execution_count": 1,
      "metadata": {
        "colab": {
          "base_uri": "https://localhost:8080/"
        },
        "id": "68o8RFHTrGr_",
        "outputId": "fa216f0c-7aaf-40e9-c9a8-a63f50ebcde6"
      },
      "outputs": [
        {
          "output_type": "stream",
          "name": "stdout",
          "text": [
            "Requirement already satisfied: pandas in /usr/local/lib/python3.11/dist-packages (2.2.2)\n",
            "Requirement already satisfied: scikit-learn in /usr/local/lib/python3.11/dist-packages (1.6.1)\n",
            "Requirement already satisfied: matplotlib in /usr/local/lib/python3.11/dist-packages (3.10.0)\n",
            "Requirement already satisfied: numpy>=1.23.2 in /usr/local/lib/python3.11/dist-packages (from pandas) (2.0.2)\n",
            "Requirement already satisfied: python-dateutil>=2.8.2 in /usr/local/lib/python3.11/dist-packages (from pandas) (2.9.0.post0)\n",
            "Requirement already satisfied: pytz>=2020.1 in /usr/local/lib/python3.11/dist-packages (from pandas) (2025.2)\n",
            "Requirement already satisfied: tzdata>=2022.7 in /usr/local/lib/python3.11/dist-packages (from pandas) (2025.2)\n",
            "Requirement already satisfied: scipy>=1.6.0 in /usr/local/lib/python3.11/dist-packages (from scikit-learn) (1.15.3)\n",
            "Requirement already satisfied: joblib>=1.2.0 in /usr/local/lib/python3.11/dist-packages (from scikit-learn) (1.5.0)\n",
            "Requirement already satisfied: threadpoolctl>=3.1.0 in /usr/local/lib/python3.11/dist-packages (from scikit-learn) (3.6.0)\n",
            "Requirement already satisfied: contourpy>=1.0.1 in /usr/local/lib/python3.11/dist-packages (from matplotlib) (1.3.2)\n",
            "Requirement already satisfied: cycler>=0.10 in /usr/local/lib/python3.11/dist-packages (from matplotlib) (0.12.1)\n",
            "Requirement already satisfied: fonttools>=4.22.0 in /usr/local/lib/python3.11/dist-packages (from matplotlib) (4.58.0)\n",
            "Requirement already satisfied: kiwisolver>=1.3.1 in /usr/local/lib/python3.11/dist-packages (from matplotlib) (1.4.8)\n",
            "Requirement already satisfied: packaging>=20.0 in /usr/local/lib/python3.11/dist-packages (from matplotlib) (24.2)\n",
            "Requirement already satisfied: pillow>=8 in /usr/local/lib/python3.11/dist-packages (from matplotlib) (11.2.1)\n",
            "Requirement already satisfied: pyparsing>=2.3.1 in /usr/local/lib/python3.11/dist-packages (from matplotlib) (3.2.3)\n",
            "Requirement already satisfied: six>=1.5 in /usr/local/lib/python3.11/dist-packages (from python-dateutil>=2.8.2->pandas) (1.17.0)\n"
          ]
        }
      ],
      "source": [
        "pip install pandas scikit-learn matplotlib\n"
      ]
    },
    {
      "cell_type": "code",
      "source": [
        "import pandas as pd\n",
        "import numpy as np\n",
        "import matplotlib.pyplot as plt\n",
        "from sklearn.ensemble import RandomForestRegressor\n",
        "from sklearn.model_selection import train_test_split\n",
        "from sklearn.preprocessing import MinMaxScaler\n",
        "\n",
        "# STEP 1: Load the dataset\n",
        "df = pd.read_csv(\"API_1_DS2_en_csv_v2_6421.csv\", skiprows=4)\n",
        "\n",
        "# STEP 2: Filter necessary indicators\n",
        "indicators_to_extract = {\n",
        "    \"Food production index (2014-2016 = 100)\": \"Food Production Index\",\n",
        "    \"Rural population (% of total population)\": \"Rural Population %\",\n",
        "    \"Cereal yield (kg per hectare)\": \"Cereal Yield\",\n",
        "    \"Employment in agriculture (% of total employment) (modeled ILO estimate)\": \"Agricultural Employment\",\n",
        "    \"Prevalence of undernourishment (% of population)\": \"Undernourishment\"\n",
        "}\n",
        "\n",
        "df = df[df['Indicator Name'].isin(indicators_to_extract.keys())]\n",
        "df['Indicator Name'] = df['Indicator Name'].map(indicators_to_extract)\n",
        "\n",
        "# STEP 3: Reshape the data into wide format\n",
        "value_years = [str(y) for y in range(2000, 2022)]\n",
        "df_melted = df.melt(id_vars=[\"Country Name\", \"Indicator Name\"],\n",
        "                    value_vars=value_years,\n",
        "                    var_name=\"Year\",\n",
        "                    value_name=\"Value\")\n",
        "\n",
        "df_pivot = df_melted.pivot_table(\n",
        "    index=[\"Country Name\", \"Year\"],\n",
        "    columns=\"Indicator Name\",\n",
        "    values=\"Value\"\n",
        ").reset_index()\n",
        "\n",
        "df_clean = df_pivot.dropna()\n",
        "\n",
        "# STEP 4: Prepare features and target\n",
        "features = [\"Food Production Index\", \"Rural Population %\", \"Cereal Yield\", \"Agricultural Employment\"]\n",
        "target = \"Undernourishment\"\n",
        "\n",
        "X = df_clean[features]\n",
        "y = df_clean[target]\n",
        "\n",
        "# Normalize features\n",
        "scaler = MinMaxScaler()\n",
        "X_scaled = scaler.fit_transform(X)\n",
        "\n",
        "# STEP 5: Train-Test Split and Model Training\n",
        "X_train, X_test, y_train, y_test = train_test_split(X_scaled, y, test_size=0.2, random_state=42)\n",
        "model = RandomForestRegressor(n_estimators=100, random_state=42)\n",
        "model.fit(X_train, y_train)\n",
        "\n",
        "# STEP 6: Plot Feature Importance\n",
        "importances = model.feature_importances_\n",
        "indices = np.argsort(importances)[::-1]\n",
        "\n",
        "plt.figure(figsize=(8, 5))\n",
        "plt.title(\"Feature Importance - Hunger Prediction Model\", fontsize=14)\n",
        "bars = plt.bar(range(len(features)), importances[indices], color='tomato', edgecolor='black')\n",
        "plt.xticks(range(len(features)), [features[i] for i in indices], rotation=30)\n",
        "plt.ylabel(\"Importance Score\")\n",
        "plt.grid(axis='y', linestyle='--', alpha=0.7)\n",
        "plt.tight_layout()\n",
        "plt.show()\n"
      ],
      "metadata": {
        "colab": {
          "base_uri": "https://localhost:8080/",
          "height": 616
        },
        "id": "yP0z6FjRrSVe",
        "outputId": "7d2c882a-37dd-4678-d1b7-90c3f2d8a6dd"
      },
      "execution_count": 4,
      "outputs": [
        {
          "output_type": "error",
          "ename": "KeyError",
          "evalue": "'Undernourishment'",
          "traceback": [
            "\u001b[0;31m---------------------------------------------------------------------------\u001b[0m",
            "\u001b[0;31mKeyError\u001b[0m                                  Traceback (most recent call last)",
            "\u001b[0;32m/usr/local/lib/python3.11/dist-packages/pandas/core/indexes/base.py\u001b[0m in \u001b[0;36mget_loc\u001b[0;34m(self, key)\u001b[0m\n\u001b[1;32m   3804\u001b[0m         \u001b[0;32mtry\u001b[0m\u001b[0;34m:\u001b[0m\u001b[0;34m\u001b[0m\u001b[0;34m\u001b[0m\u001b[0m\n\u001b[0;32m-> 3805\u001b[0;31m             \u001b[0;32mreturn\u001b[0m \u001b[0mself\u001b[0m\u001b[0;34m.\u001b[0m\u001b[0m_engine\u001b[0m\u001b[0;34m.\u001b[0m\u001b[0mget_loc\u001b[0m\u001b[0;34m(\u001b[0m\u001b[0mcasted_key\u001b[0m\u001b[0;34m)\u001b[0m\u001b[0;34m\u001b[0m\u001b[0;34m\u001b[0m\u001b[0m\n\u001b[0m\u001b[1;32m   3806\u001b[0m         \u001b[0;32mexcept\u001b[0m \u001b[0mKeyError\u001b[0m \u001b[0;32mas\u001b[0m \u001b[0merr\u001b[0m\u001b[0;34m:\u001b[0m\u001b[0;34m\u001b[0m\u001b[0;34m\u001b[0m\u001b[0m\n",
            "\u001b[0;32mindex.pyx\u001b[0m in \u001b[0;36mpandas._libs.index.IndexEngine.get_loc\u001b[0;34m()\u001b[0m\n",
            "\u001b[0;32mindex.pyx\u001b[0m in \u001b[0;36mpandas._libs.index.IndexEngine.get_loc\u001b[0;34m()\u001b[0m\n",
            "\u001b[0;32mpandas/_libs/hashtable_class_helper.pxi\u001b[0m in \u001b[0;36mpandas._libs.hashtable.PyObjectHashTable.get_item\u001b[0;34m()\u001b[0m\n",
            "\u001b[0;32mpandas/_libs/hashtable_class_helper.pxi\u001b[0m in \u001b[0;36mpandas._libs.hashtable.PyObjectHashTable.get_item\u001b[0;34m()\u001b[0m\n",
            "\u001b[0;31mKeyError\u001b[0m: 'Undernourishment'",
            "\nThe above exception was the direct cause of the following exception:\n",
            "\u001b[0;31mKeyError\u001b[0m                                  Traceback (most recent call last)",
            "\u001b[0;32m<ipython-input-4-bf74a45cea6b>\u001b[0m in \u001b[0;36m<cell line: 0>\u001b[0;34m()\u001b[0m\n\u001b[1;32m     41\u001b[0m \u001b[0;34m\u001b[0m\u001b[0m\n\u001b[1;32m     42\u001b[0m \u001b[0mX\u001b[0m \u001b[0;34m=\u001b[0m \u001b[0mdf_clean\u001b[0m\u001b[0;34m[\u001b[0m\u001b[0mfeatures\u001b[0m\u001b[0;34m]\u001b[0m\u001b[0;34m\u001b[0m\u001b[0;34m\u001b[0m\u001b[0m\n\u001b[0;32m---> 43\u001b[0;31m \u001b[0my\u001b[0m \u001b[0;34m=\u001b[0m \u001b[0mdf_clean\u001b[0m\u001b[0;34m[\u001b[0m\u001b[0mtarget\u001b[0m\u001b[0;34m]\u001b[0m\u001b[0;34m\u001b[0m\u001b[0;34m\u001b[0m\u001b[0m\n\u001b[0m\u001b[1;32m     44\u001b[0m \u001b[0;34m\u001b[0m\u001b[0m\n\u001b[1;32m     45\u001b[0m \u001b[0;31m# Normalize features\u001b[0m\u001b[0;34m\u001b[0m\u001b[0;34m\u001b[0m\u001b[0m\n",
            "\u001b[0;32m/usr/local/lib/python3.11/dist-packages/pandas/core/frame.py\u001b[0m in \u001b[0;36m__getitem__\u001b[0;34m(self, key)\u001b[0m\n\u001b[1;32m   4100\u001b[0m             \u001b[0;32mif\u001b[0m \u001b[0mself\u001b[0m\u001b[0;34m.\u001b[0m\u001b[0mcolumns\u001b[0m\u001b[0;34m.\u001b[0m\u001b[0mnlevels\u001b[0m \u001b[0;34m>\u001b[0m \u001b[0;36m1\u001b[0m\u001b[0;34m:\u001b[0m\u001b[0;34m\u001b[0m\u001b[0;34m\u001b[0m\u001b[0m\n\u001b[1;32m   4101\u001b[0m                 \u001b[0;32mreturn\u001b[0m \u001b[0mself\u001b[0m\u001b[0;34m.\u001b[0m\u001b[0m_getitem_multilevel\u001b[0m\u001b[0;34m(\u001b[0m\u001b[0mkey\u001b[0m\u001b[0;34m)\u001b[0m\u001b[0;34m\u001b[0m\u001b[0;34m\u001b[0m\u001b[0m\n\u001b[0;32m-> 4102\u001b[0;31m             \u001b[0mindexer\u001b[0m \u001b[0;34m=\u001b[0m \u001b[0mself\u001b[0m\u001b[0;34m.\u001b[0m\u001b[0mcolumns\u001b[0m\u001b[0;34m.\u001b[0m\u001b[0mget_loc\u001b[0m\u001b[0;34m(\u001b[0m\u001b[0mkey\u001b[0m\u001b[0;34m)\u001b[0m\u001b[0;34m\u001b[0m\u001b[0;34m\u001b[0m\u001b[0m\n\u001b[0m\u001b[1;32m   4103\u001b[0m             \u001b[0;32mif\u001b[0m \u001b[0mis_integer\u001b[0m\u001b[0;34m(\u001b[0m\u001b[0mindexer\u001b[0m\u001b[0;34m)\u001b[0m\u001b[0;34m:\u001b[0m\u001b[0;34m\u001b[0m\u001b[0;34m\u001b[0m\u001b[0m\n\u001b[1;32m   4104\u001b[0m                 \u001b[0mindexer\u001b[0m \u001b[0;34m=\u001b[0m \u001b[0;34m[\u001b[0m\u001b[0mindexer\u001b[0m\u001b[0;34m]\u001b[0m\u001b[0;34m\u001b[0m\u001b[0;34m\u001b[0m\u001b[0m\n",
            "\u001b[0;32m/usr/local/lib/python3.11/dist-packages/pandas/core/indexes/base.py\u001b[0m in \u001b[0;36mget_loc\u001b[0;34m(self, key)\u001b[0m\n\u001b[1;32m   3810\u001b[0m             ):\n\u001b[1;32m   3811\u001b[0m                 \u001b[0;32mraise\u001b[0m \u001b[0mInvalidIndexError\u001b[0m\u001b[0;34m(\u001b[0m\u001b[0mkey\u001b[0m\u001b[0;34m)\u001b[0m\u001b[0;34m\u001b[0m\u001b[0;34m\u001b[0m\u001b[0m\n\u001b[0;32m-> 3812\u001b[0;31m             \u001b[0;32mraise\u001b[0m \u001b[0mKeyError\u001b[0m\u001b[0;34m(\u001b[0m\u001b[0mkey\u001b[0m\u001b[0;34m)\u001b[0m \u001b[0;32mfrom\u001b[0m \u001b[0merr\u001b[0m\u001b[0;34m\u001b[0m\u001b[0;34m\u001b[0m\u001b[0m\n\u001b[0m\u001b[1;32m   3813\u001b[0m         \u001b[0;32mexcept\u001b[0m \u001b[0mTypeError\u001b[0m\u001b[0;34m:\u001b[0m\u001b[0;34m\u001b[0m\u001b[0;34m\u001b[0m\u001b[0m\n\u001b[1;32m   3814\u001b[0m             \u001b[0;31m# If we have a listlike key, _check_indexing_error will raise\u001b[0m\u001b[0;34m\u001b[0m\u001b[0;34m\u001b[0m\u001b[0m\n",
            "\u001b[0;31mKeyError\u001b[0m: 'Undernourishment'"
          ]
        }
      ]
    },
    {
      "cell_type": "code",
      "source": [
        "import pandas as pd\n",
        "import numpy as np\n",
        "import matplotlib.pyplot as plt\n",
        "from sklearn.ensemble import RandomForestRegressor\n",
        "from sklearn.model_selection import train_test_split\n",
        "from sklearn.preprocessing import MinMaxScaler\n",
        "\n",
        "# STEP 1: Load the dataset\n",
        "df = pd.read_csv(\"API_1_DS2_en_csv_v2_6421.csv\", skiprows=4)\n",
        "\n",
        "# STEP 2: Filter necessary indicators\n",
        "indicators_to_extract = {\n",
        "    \"Food production index (2014-2016 = 100)\": \"Food Production Index\",\n",
        "    \"Rural population (% of total population)\": \"Rural Population %\",\n",
        "    \"Cereal yield (kg per hectare)\": \"Cereal Yield\",\n",
        "    \"Employment in agriculture (% of total employment) (modeled ILO estimate)\": \"Agricultural Employment\",\n",
        "    \"Prevalence of undernourishment (% of population)\": \"Undernourishment\"\n",
        "}\n",
        "\n",
        "df = df[df['Indicator Name'].isin(indicators_to_extract.keys())]\n",
        "df['Indicator Name'] = df['Indicator Name'].map(indicators_to_extract)\n",
        "\n",
        "# STEP 3: Reshape the data into wide format\n",
        "value_years = [str(y) for y in range(2000, 2022)]\n",
        "df_melted = df.melt(id_vars=[\"Country Name\", \"Indicator Name\"],\n",
        "                    value_vars=value_years,\n",
        "                    var_name=\"Year\",\n",
        "                    value_name=\"Value\")\n",
        "\n",
        "df_pivot = df_melted.pivot_table(\n",
        "    index=[\"Country Name\", \"Year\"],\n",
        "    columns=\"Indicator Name\",\n",
        "    values=\"Value\"\n",
        ").reset_index()\n",
        "\n",
        "df_clean = df_pivot.dropna()\n",
        "\n",
        "# STEP 4: Prepare features and target\n",
        "features = [\"Food Production Index\", \"Rural Population %\", \"Cereal Yield\", \"Agricultural Employment\"]\n",
        "target = \"Undernourishment\"\n",
        "\n",
        "# Check the columns in df_clean to see if 'Undernourishment' exists\n",
        "print(\"Columns in df_clean:\", df_clean.columns)\n",
        "\n",
        "# Check if the target column exists before proceeding\n",
        "if target not in df_clean.columns:\n",
        "    print(f\"Error: Target column '{target}' not found in df_clean after dropping NaNs.\")\n",
        "    # You might want to stop execution or handle this case appropriately\n",
        "    # For example, you could exit or skip the model training/plotting steps\n",
        "else:\n",
        "    X = df_clean[features]\n",
        "    y = df_clean[target]\n",
        "\n",
        "    # Normalize features\n",
        "    scaler = MinMaxScaler()\n",
        "    X_scaled = scaler.fit_transform(X)\n",
        "\n",
        "    # STEP 5: Train-Test Split and Model Training\n",
        "    X_train, X_test, y_train, y_test = train_test_split(X_scaled, y, test_size=0.2, random_state=42)\n",
        "    model = RandomForestRegressor(n_estimators=100, random_state=42)\n",
        "    model.fit(X_train, y_train)\n",
        "\n",
        "    # STEP 6: Plot Feature Importance\n",
        "    importances = model.feature_importances_\n",
        "    indices = np.argsort(importances)[::-1]\n",
        "\n",
        "    plt.figure(figsize=(8, 5))\n",
        "    plt.title(\"Feature Importance - Hunger Prediction Model\", fontsize=14)\n",
        "    bars = plt.bar(range(len(features)), importances[indices], color='tomato', edgecolor='black')\n",
        "    plt.xticks(range(len(features)), [features[i] for i in indices], rotation=30)\n",
        "    plt.ylabel(\"Importance Score\")\n",
        "    plt.grid(axis='y', linestyle='--', alpha=0.7)\n",
        "    plt.tight_layout()\n",
        "    plt.show()"
      ],
      "metadata": {
        "colab": {
          "base_uri": "https://localhost:8080/"
        },
        "id": "Ys2LpDu1sB3D",
        "outputId": "6daf0cc2-ebf3-4df1-c832-0c217f1d989a"
      },
      "execution_count": 5,
      "outputs": [
        {
          "output_type": "stream",
          "name": "stdout",
          "text": [
            "Columns in df_clean: Index(['Country Name', 'Year', 'Agricultural Employment', 'Cereal Yield',\n",
            "       'Food Production Index', 'Rural Population %'],\n",
            "      dtype='object', name='Indicator Name')\n",
            "Error: Target column 'Undernourishment' not found in df_clean after dropping NaNs.\n"
          ]
        }
      ]
    },
    {
      "cell_type": "code",
      "source": [
        "# Check what indicators are actually present\n",
        "print(df['Indicator Name'].unique())\n"
      ],
      "metadata": {
        "colab": {
          "base_uri": "https://localhost:8080/"
        },
        "id": "mSbf3uvltFdP",
        "outputId": "a4efd742-0f49-4c21-9923-0ec223c4ee3e"
      },
      "execution_count": 6,
      "outputs": [
        {
          "output_type": "stream",
          "name": "stdout",
          "text": [
            "['Rural Population %' 'Agricultural Employment' 'Cereal Yield'\n",
            " 'Food Production Index']\n"
          ]
        }
      ]
    },
    {
      "cell_type": "code",
      "source": [
        "# Load the undernourishment CSV (adjust filename as needed)\n",
        "# Specify the file to read within the ZIP archive\n",
        "und_df = pd.read_csv(\"/content/API_SN.ITK.DEFC.ZS_DS2_en_csv_v2_85103.csv\", skiprows=4)\n",
        "\n",
        "# Keep only relevant columns (Country, Year, Value)\n",
        "und_melted = und_df.melt(\n",
        "    id_vars=[\"Country Name\"],\n",
        "    value_vars=[str(y) for y in range(2000, 2022)],\n",
        "    var_name=\"Year\",\n",
        "    value_name=\"Undernourishment\"\n",
        ")\n",
        "\n",
        "# Drop NaNs\n",
        "und_melted = und_melted.dropna()"
      ],
      "metadata": {
        "id": "MJEW78jzuM7K"
      },
      "execution_count": 10,
      "outputs": []
    },
    {
      "cell_type": "code",
      "source": [
        "# Merge on Country Name and Year\n",
        "df_final = pd.merge(df_clean, und_melted, on=[\"Country Name\", \"Year\"])\n",
        "\n",
        "# Check result\n",
        "print(df_final.head())\n"
      ],
      "metadata": {
        "colab": {
          "base_uri": "https://localhost:8080/"
        },
        "id": "-72ybBN-u5UI",
        "outputId": "018b06b5-250e-4b84-8730-0b1394e6bd47"
      },
      "execution_count": 11,
      "outputs": [
        {
          "output_type": "stream",
          "name": "stdout",
          "text": [
            "  Country Name  Year  Agricultural Employment  Cereal Yield  \\\n",
            "0  Afghanistan  2001                65.025449        1006.7   \n",
            "1  Afghanistan  2002                64.186689        1669.8   \n",
            "2  Afghanistan  2003                63.481557        1458.0   \n",
            "3  Afghanistan  2004                62.469948        1334.8   \n",
            "4  Afghanistan  2005                61.703552        1790.4   \n",
            "\n",
            "   Food Production Index  Rural Population %  Undernourishment  \n",
            "0                  61.59              77.831              46.0  \n",
            "1                  74.72              77.739              43.7  \n",
            "2                  76.77              77.647              38.6  \n",
            "3                  74.75              77.500              35.9  \n",
            "4                  83.54              77.297              34.2  \n"
          ]
        }
      ]
    },
    {
      "cell_type": "code",
      "source": [
        "features = [\"Food Production Index\", \"Rural Population %\", \"Cereal Yield\", \"Agricultural Employment\"]\n",
        "target = \"Undernourishment\"\n",
        "# ... (rest of the Random Forest + graph code from earlier)\n"
      ],
      "metadata": {
        "id": "_D6Q1OuSu7UJ"
      },
      "execution_count": 12,
      "outputs": []
    },
    {
      "cell_type": "code",
      "source": [
        "features = [\"Food Production Index\", \"Rural Population %\", \"Cereal Yield\", \"Agricultural Employment\"]\n",
        "target = \"Undernourishment\"\n",
        "\n",
        "X = df_final[features]\n",
        "y = df_final[target]\n",
        "\n",
        "# Normalize\n",
        "from sklearn.preprocessing import MinMaxScaler\n",
        "scaler = MinMaxScaler()\n",
        "X_scaled = scaler.fit_transform(X)\n",
        "\n",
        "# Train\n",
        "from sklearn.ensemble import RandomForestRegressor\n",
        "from sklearn.model_selection import train_test_split\n",
        "\n",
        "X_train, X_test, y_train, y_test = train_test_split(X_scaled, y, test_size=0.2, random_state=42)\n",
        "model = RandomForestRegressor(n_estimators=100, random_state=42)\n",
        "model.fit(X_train, y_train)\n",
        "\n",
        "# Plot\n",
        "import matplotlib.pyplot as plt\n",
        "import numpy as np\n",
        "\n",
        "importances = model.feature_importances_\n",
        "indices = np.argsort(importances)[::-1]\n",
        "\n",
        "plt.figure(figsize=(8, 5))\n",
        "plt.title(\"Feature Importance - Hunger Prediction Model\", fontsize=14)\n",
        "bars = plt.bar(range(len(features)), importances[indices], color='tomato', edgecolor='black')\n",
        "plt.xticks(range(len(features)), [features[i] for i in indices], rotation=30)\n",
        "plt.ylabel(\"Importance Score\")\n",
        "plt.grid(axis='y', linestyle='--', alpha=0.7)\n",
        "plt.tight_layout()\n",
        "plt.show()\n"
      ],
      "metadata": {
        "colab": {
          "base_uri": "https://localhost:8080/",
          "height": 407
        },
        "id": "bGQDAuXZvKos",
        "outputId": "a4df2b08-560e-468c-f616-089fa0a588d1"
      },
      "execution_count": 14,
      "outputs": [
        {
          "output_type": "display_data",
          "data": {
            "text/plain": [
              "<Figure size 800x500 with 1 Axes>"
            ],
            "image/png": "[encoded data removed]"
          },
          "metadata": {}
        }
      ]
    }
  ]
}